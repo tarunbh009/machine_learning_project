{
 "cells": [
  {
   "cell_type": "code",
   "execution_count": 1,
   "metadata": {},
   "outputs": [],
   "source": [
    "import yaml"
   ]
  },
  {
   "cell_type": "code",
   "execution_count": 2,
   "metadata": {},
   "outputs": [],
   "source": [
    "def read_yaml_file(file_path:str)->dict:\n",
    "    \"\"\"\n",
    "    Reads a YAML file and returns the contents as a dictionary.\n",
    "    file_path: str\n",
    "    \"\"\"\n",
    "    try:\n",
    "        with open(file_path, 'rb') as yaml_file:\n",
    "            return yaml.safe_load(yaml_file)\n",
    "    except:\n",
    "        Exception  "
   ]
  },
  {
   "cell_type": "code",
   "execution_count": 3,
   "metadata": {},
   "outputs": [],
   "source": [
    "config_info=read_yaml_file(r\"C:\\Users\\bhard\\Downloads\\project\\machine_learning_project\\config\\config.yaml\")"
   ]
  },
  {
   "cell_type": "code",
   "execution_count": 4,
   "metadata": {},
   "outputs": [],
   "source": [
    "import os\n",
    "from datetime import datetime\n",
    "\n",
    "ROOT_DIR = os.getcwd()  #to get current working directory\n",
    "\n",
    "CONFIG_DIR = \"config\"\n",
    "CONFIG_FILE_PATH = \"config.yaml\"\n",
    "CONFIG_FILE_NAME=os.path.join(ROOT_DIR,CONFIG_DIR,CONFIG_FILE_PATH)\n",
    "\n",
    "\n",
    "def get_current_time_stamp():\n",
    "    return f\"{datetime.now().strftime('%Y-%m-%d-%H-%M-%S')}\"\n",
    "\n",
    "\n",
    "# Training pipeline related variable\n",
    "TRAINING_PIPELINE_CONFIG_KEY = \"training_pipeline_config\"\n",
    "TRAINING_PIPELINE_ARTIFACT_DIR_KEY = \"artifact_dir\"\n",
    "TRAINING_PIPELINE_NAME_KEY = \"pipeline_name\"\n",
    "\n",
    "\n",
    "\n",
    "# Data Ingestion related variable\n",
    "\n",
    "DATA_INGESTION_CONFIG_KEY = \"data_ingestion_config\"\n",
    "DATA_INGESTION_ARTIFACT_DIR = \"data_ingestion\"\n",
    "DATA_INGESTION_DOWNLOAD_URL_KEY = \"dataset_download_url\"\n",
    "DATA_INGESTION_RAW_DATA_DIR_KEY = \"raw_data_dir\"\n",
    "DATA_INGESTION_TGZ_DOWNLOAD_DIR_KEY = \"tgz_download_dir\"\n",
    "DATA_INGESTION_DIR_NAME_KEY = \"ingested_dir\"\n",
    "DATA_INGESTION_TRAIN_DIR_KEY = \"ingested_train_dir\"\n",
    "DATA_INGESTION_TEST_DIR_KEY = \"ingested_test_dir\"\n",
    "\n",
    "\n",
    "# Data Validation related variables\n",
    "DATA_VALIDATION_CONFIG_KEY = \"data_validation_config\"\n",
    "DATA_VALIDATION_SCHEMA_FILE_NAME_KEY = \"schema_file_name\"\n",
    "DATA_VALIDATION_SCHEMA_DIR_KEY = \"schema_dir\"\n",
    "DATA_VALIDATION_ARTIFACT_DIR_NAME=\"data_validation\"\n",
    "DATA_VALIDATION_REPORT_FILE_NAME_KEY = \"report_file_name\"\n",
    "DATA_VALIDATION_REPORT_PAGE_FILE_NAME_KEY = \"report_page_file_name\"\n",
    "\n",
    "\n",
    "# Data Transformation related variables\n",
    "DATA_TRANSFORMATION_ARTIFACT_DIR = \"data_transformation\"\n",
    "DATA_TRANSFORMATION_CONFIG_KEY = \"data_transformation_config\"\n",
    "DATA_TRANSFORMATION_ADD_BEDROOM_PER_ROOM_KEY = \"add_bedroom_per_room\"\n",
    "DATA_TRANSFORMATION_DIR_NAME_KEY = \"transformed_dir\"\n",
    "DATA_TRANSFORMATION_TRAIN_DIR_NAME_KEY = \"transformed_train_dir\"\n",
    "DATA_TRANSFORMATION_TEST_DIR_NAME_KEY = \"transformed_test_dir\"\n",
    "DATA_TRANSFORMATION_PREPROCESSING_DIR_KEY = \"preprocessing_dir\"\n",
    "DATA_TRANSFORMATION_PREPROCESSED_FILE_NAME_KEY = \"preprocessed_object_file_name\""
   ]
  },
  {
   "cell_type": "code",
   "execution_count": 5,
   "metadata": {},
   "outputs": [],
   "source": [
    "training_pipeline_config = config_info[TRAINING_PIPELINE_CONFIG_KEY][TRAINING_PIPELINE_NAME_KEY]"
   ]
  },
  {
   "cell_type": "code",
   "execution_count": 6,
   "metadata": {},
   "outputs": [
    {
     "data": {
      "text/plain": [
       "{'training_pipeline_config': {'pipeline_name': 'housing',\n",
       "  'artifact_dir': 'artifact'},\n",
       " 'data_ingestion_config': {'dataset_download_url': 'https://raw.githubusercontent.com/ageron/handson-ml/master/datasets/housing/housing.tgz',\n",
       "  'raw_data_dir': 'raw_data',\n",
       "  'tgz_download_dir': 'tgz_data',\n",
       "  'ingested_dir': 'ingested_data',\n",
       "  'ingested_train_dir': 'train',\n",
       "  'ingested_test_dir': 'test'},\n",
       " 'data_validation_config': {'schema_dir': 'config',\n",
       "  'schema_file_name': 'schema.yaml',\n",
       "  'report_file_name': 'report.json',\n",
       "  'report_page_file_name': 'report.html'},\n",
       " 'data_transformation_config': {'add_bedroom_per_room': True,\n",
       "  'transformed_dir': 'transformed_data',\n",
       "  'transformed_train_dir': 'train',\n",
       "  'transformed_test_dir': 'test',\n",
       "  'preprocessing_dir': 'preprocessed',\n",
       "  'preprocessed_object_file_name': 'preprocessed.pkl'},\n",
       " 'model_trainer_config': {'trained_model_dir': 'trained_model',\n",
       "  'model_file_name': 'model.pkl',\n",
       "  'base_accuracy': 0.6,\n",
       "  'model_config_dir': 'config',\n",
       "  'model_config_file_name': 'model.yaml'},\n",
       " 'model_evaluation_config': {'model_evaluation_file_name': 'model_evaluation.yaml'},\n",
       " 'model_pusher_config': {'model_export_dir': 'saved_models'}}"
      ]
     },
     "execution_count": 6,
     "metadata": {},
     "output_type": "execute_result"
    }
   ],
   "source": [
    "config_info"
   ]
  },
  {
   "cell_type": "code",
   "execution_count": 7,
   "metadata": {},
   "outputs": [
    {
     "data": {
      "text/plain": [
       "'housing'"
      ]
     },
     "execution_count": 7,
     "metadata": {},
     "output_type": "execute_result"
    }
   ],
   "source": [
    "training_pipeline_config"
   ]
  },
  {
   "cell_type": "code",
   "execution_count": 8,
   "metadata": {},
   "outputs": [
    {
     "ename": "NameError",
     "evalue": "name 'pipeline_name' is not defined",
     "output_type": "error",
     "traceback": [
      "\u001b[1;31m---------------------------------------------------------------------------\u001b[0m",
      "\u001b[1;31mNameError\u001b[0m                                 Traceback (most recent call last)",
      "\u001b[1;32m~\\AppData\\Local\\Temp\\ipykernel_5324\\291153450.py\u001b[0m in \u001b[0;36m<module>\u001b[1;34m\u001b[0m\n\u001b[1;32m----> 1\u001b[1;33m artifact_dir = os.path.join(ROOT_DIR,config_info[pipeline_name],\n\u001b[0m\u001b[0;32m      2\u001b[0m config_info[artifact_dir])\n",
      "\u001b[1;31mNameError\u001b[0m: name 'pipeline_name' is not defined"
     ]
    }
   ],
   "source": [
    "artifact_dir = os.path.join(ROOT_DIR,config_info[pipeline_name],\n",
    "config_info[artifact_dir])"
   ]
  },
  {
   "cell_type": "code",
   "execution_count": 4,
   "metadata": {},
   "outputs": [
    {
     "ename": "TypeError",
     "evalue": "namedtuple() takes 2 positional arguments but 3 were given",
     "output_type": "error",
     "traceback": [
      "\u001b[1;31m---------------------------------------------------------------------------\u001b[0m",
      "\u001b[1;31mTypeError\u001b[0m                                 Traceback (most recent call last)",
      "\u001b[1;32m~\\AppData\\Local\\Temp\\ipykernel_3192\\2400370051.py\u001b[0m in \u001b[0;36m<module>\u001b[1;34m\u001b[0m\n\u001b[1;32m----> 1\u001b[1;33m \u001b[1;32mfrom\u001b[0m \u001b[0mhousing\u001b[0m\u001b[1;33m.\u001b[0m\u001b[0mconfig\u001b[0m\u001b[1;33m.\u001b[0m\u001b[0mconfiguration\u001b[0m \u001b[1;32mimport\u001b[0m \u001b[0mconfiguration\u001b[0m\u001b[1;33m\u001b[0m\u001b[0m\n\u001b[0m",
      "\u001b[1;32mc:\\Users\\bhard\\Downloads\\project\\machine_learning_project\\housing\\config\\configuration.py\u001b[0m in \u001b[0;36m<module>\u001b[1;34m\u001b[0m\n\u001b[1;32m----> 1\u001b[1;33m \u001b[1;32mfrom\u001b[0m \u001b[0mhousing\u001b[0m\u001b[1;33m.\u001b[0m\u001b[0mentity\u001b[0m\u001b[1;33m.\u001b[0m\u001b[0mconfig_entity\u001b[0m \u001b[1;32mimport\u001b[0m \u001b[0mDataIngestionConfig\u001b[0m\u001b[1;33m,\u001b[0m\u001b[0mDataValidationConfig\u001b[0m\u001b[1;33m,\u001b[0m\u001b[0mDataTransformationConfig\u001b[0m\u001b[1;33m,\u001b[0m\u001b[0mModelTrainigConfig\u001b[0m\u001b[1;33m,\u001b[0m\u001b[0mModelEvaluationConfig\u001b[0m\u001b[1;33m,\u001b[0m \u001b[0mModelPusherConfig\u001b[0m\u001b[1;33m,\u001b[0m\u001b[0mTrainingPipelineConfig\u001b[0m\u001b[1;33m\u001b[0m\u001b[0m\n\u001b[0m\u001b[0;32m      2\u001b[0m \u001b[1;32mfrom\u001b[0m \u001b[0mhousing\u001b[0m\u001b[1;33m.\u001b[0m\u001b[0mutil\u001b[0m\u001b[1;33m.\u001b[0m\u001b[0mutil\u001b[0m \u001b[1;32mimport\u001b[0m \u001b[0mread_yaml_file\u001b[0m\u001b[1;33m\u001b[0m\u001b[0m\n\u001b[0;32m      3\u001b[0m \u001b[1;32mfrom\u001b[0m \u001b[0mhousing\u001b[0m\u001b[1;33m.\u001b[0m\u001b[0mlogger\u001b[0m \u001b[1;32mimport\u001b[0m \u001b[0mlogging\u001b[0m\u001b[1;33m\u001b[0m\u001b[0m\n\u001b[0;32m      4\u001b[0m \u001b[1;32mimport\u001b[0m \u001b[0msys\u001b[0m\u001b[1;33m,\u001b[0m\u001b[0mos\u001b[0m\u001b[1;33m\u001b[0m\u001b[0m\n\u001b[0;32m      5\u001b[0m \u001b[1;32mfrom\u001b[0m \u001b[0mhousing\u001b[0m\u001b[1;33m.\u001b[0m\u001b[0mconstant\u001b[0m \u001b[1;32mimport\u001b[0m \u001b[1;33m*\u001b[0m\u001b[1;33m\u001b[0m\u001b[0m\n",
      "\u001b[1;32mc:\\Users\\bhard\\Downloads\\project\\machine_learning_project\\housing\\entity\\config_entity.py\u001b[0m in \u001b[0;36m<module>\u001b[1;34m\u001b[0m\n\u001b[0;32m     15\u001b[0m \u001b[0mModelTrainigConfig\u001b[0m\u001b[1;33m=\u001b[0m\u001b[0mnamedtuple\u001b[0m\u001b[1;33m(\u001b[0m\u001b[1;34m\"ModelTrainingConfig\"\u001b[0m\u001b[1;33m,\u001b[0m\u001b[1;33m[\u001b[0m\u001b[1;34m\"trained_model_file_path\"\u001b[0m\u001b[1;33m,\u001b[0m\u001b[1;34m\"base_acuracy\"\u001b[0m\u001b[1;33m]\u001b[0m\u001b[1;33m)\u001b[0m\u001b[1;33m\u001b[0m\u001b[0m\n\u001b[0;32m     16\u001b[0m \u001b[1;33m\u001b[0m\u001b[0m\n\u001b[1;32m---> 17\u001b[1;33m \u001b[0mModelEvaluationConfig\u001b[0m\u001b[1;33m=\u001b[0m\u001b[0mnamedtuple\u001b[0m\u001b[1;33m(\u001b[0m\u001b[1;34m\"ModelEvaluationConfig\"\u001b[0m\u001b[1;33m,\u001b[0m\u001b[1;34m\"model_evaluation_file_path\"\u001b[0m\u001b[1;33m,\u001b[0m\u001b[1;34m\"time_stamp\"\u001b[0m\u001b[1;33m)\u001b[0m\u001b[1;33m\u001b[0m\u001b[0m\n\u001b[0m\u001b[0;32m     18\u001b[0m \u001b[1;33m\u001b[0m\u001b[0m\n\u001b[0;32m     19\u001b[0m \u001b[0mModelPusherConfig\u001b[0m\u001b[1;33m=\u001b[0m\u001b[0mnamedtuple\u001b[0m\u001b[1;33m(\u001b[0m\u001b[1;34m\"ModelPusherConfig\"\u001b[0m\u001b[1;33m,\u001b[0m\u001b[1;33m[\u001b[0m\u001b[1;34m\"export_dir_path\"\u001b[0m\u001b[1;33m]\u001b[0m\u001b[1;33m)\u001b[0m\u001b[1;33m\u001b[0m\u001b[0m\n",
      "\u001b[1;31mTypeError\u001b[0m: namedtuple() takes 2 positional arguments but 3 were given"
     ]
    }
   ],
   "source": [
    "from housing.config.configuration import configuration"
   ]
  },
  {
   "cell_type": "code",
   "execution_count": 1,
   "metadata": {},
   "outputs": [],
   "source": [
    "import os"
   ]
  },
  {
   "cell_type": "code",
   "execution_count": 2,
   "metadata": {},
   "outputs": [
    {
     "data": {
      "text/plain": [
       "'c:\\\\Users\\\\bhard\\\\Downloads\\\\project\\\\machine_learning_project\\\\notebook'"
      ]
     },
     "execution_count": 2,
     "metadata": {},
     "output_type": "execute_result"
    }
   ],
   "source": [
    "os.getcwd()"
   ]
  },
  {
   "cell_type": "code",
   "execution_count": 3,
   "metadata": {},
   "outputs": [],
   "source": [
    "os.chdir('c:\\\\Users\\\\bhard\\\\Downloads\\\\project\\\\machine_learning_project')"
   ]
  },
  {
   "cell_type": "code",
   "execution_count": 15,
   "metadata": {},
   "outputs": [
    {
     "name": "stdout",
     "output_type": "stream",
     "text": [
      "backcall==0.2.0\n",
      "certifi @ file:///C:/b/abs_85o_6fm0se/croot/certifi_1671487778835/work/certifi\n",
      "click==8.1.3\n",
      "colorama==0.4.6\n",
      "DateTime==4.9\n",
      "debugpy==1.6.5\n",
      "decorator==5.1.1\n",
      "entrypoints==0.4\n",
      "Flask==2.2.2\n",
      "gunicorn==20.1.0\n",
      "housing-predictor==0.0.1\n",
      "importlib-metadata==6.0.0\n",
      "ipykernel==6.16.2\n",
      "ipython==7.34.0\n",
      "itsdangerous==2.1.2\n",
      "jedi==0.18.2\n",
      "Jinja2==3.1.2\n",
      "jupyter_client==7.4.8\n",
      "jupyter_core==4.12.0\n",
      "MarkupSafe==2.1.1\n",
      "matplotlib-inline==0.1.6\n",
      "nest-asyncio==1.5.6\n",
      "numpy==1.21.6\n",
      "packaging==22.0\n",
      "pandas==1.1.5\n",
      "parso==0.8.3\n",
      "pickleshare==0.7.5\n",
      "prompt-toolkit==3.0.36\n",
      "psutil==5.9.4\n",
      "Pygments==2.14.0\n",
      "python-dateutil==2.8.2\n",
      "pytz==2022.7\n",
      "pywin32==305\n",
      "PyYAML==6.0\n",
      "pyzmq==24.0.1\n",
      "six==1.16.0\n",
      "sklearn==0.0.post1\n",
      "tornado==6.2\n",
      "traitlets==5.8.0\n",
      "typing_extensions==4.4.0\n",
      "wcwidth==0.2.5\n",
      "Werkzeug==2.2.2\n",
      "wincertstore==0.2\n",
      "zipp==3.11.0\n",
      "zope.interface==5.5.2\n",
      "Note: you may need to restart the kernel to use updated packages.\n"
     ]
    }
   ],
   "source": [
    "pip freeze"
   ]
  },
  {
   "cell_type": "code",
   "execution_count": 16,
   "metadata": {},
   "outputs": [
    {
     "name": "stdout",
     "output_type": "stream",
     "text": [
      "Requirement already satisfied: pyyaml in c:\\users\\bhard\\downloads\\project\\machine_learning_project\\venv\\lib\\site-packages (6.0)\n",
      "Note: you may need to restart the kernel to use updated packages.\n"
     ]
    }
   ],
   "source": [
    "pip install pyyaml"
   ]
  },
  {
   "cell_type": "code",
   "execution_count": 17,
   "metadata": {},
   "outputs": [
    {
     "name": "stdout",
     "output_type": "stream",
     "text": [
      "Requirement already satisfied: ipykernel in c:\\users\\bhard\\downloads\\project\\machine_learning_project\\venv\\lib\\site-packages (6.16.2)\n",
      "Requirement already satisfied: jupyter-client>=6.1.12 in c:\\users\\bhard\\downloads\\project\\machine_learning_project\\venv\\lib\\site-packages (from ipykernel) (7.4.8)\n",
      "Requirement already satisfied: psutil in c:\\users\\bhard\\downloads\\project\\machine_learning_project\\venv\\lib\\site-packages (from ipykernel) (5.9.4)\n",
      "Requirement already satisfied: traitlets>=5.1.0 in c:\\users\\bhard\\downloads\\project\\machine_learning_project\\venv\\lib\\site-packages (from ipykernel) (5.8.0)\n",
      "Requirement already satisfied: pyzmq>=17 in c:\\users\\bhard\\downloads\\project\\machine_learning_project\\venv\\lib\\site-packages (from ipykernel) (24.0.1)\n",
      "Requirement already satisfied: packaging in c:\\users\\bhard\\downloads\\project\\machine_learning_project\\venv\\lib\\site-packages (from ipykernel) (22.0)\n",
      "Requirement already satisfied: matplotlib-inline>=0.1 in c:\\users\\bhard\\downloads\\project\\machine_learning_project\\venv\\lib\\site-packages (from ipykernel) (0.1.6)\n",
      "Requirement already satisfied: debugpy>=1.0 in c:\\users\\bhard\\downloads\\project\\machine_learning_project\\venv\\lib\\site-packages (from ipykernel) (1.6.5)\n",
      "Requirement already satisfied: tornado>=6.1 in c:\\users\\bhard\\downloads\\project\\machine_learning_project\\venv\\lib\\site-packages (from ipykernel) (6.2)\n",
      "Requirement already satisfied: ipython>=7.23.1 in c:\\users\\bhard\\downloads\\project\\machine_learning_project\\venv\\lib\\site-packages (from ipykernel) (7.34.0)\n",
      "Requirement already satisfied: nest-asyncio in c:\\users\\bhard\\downloads\\project\\machine_learning_project\\venv\\lib\\site-packages (from ipykernel) (1.5.6)\n",
      "Requirement already satisfied: decorator in c:\\users\\bhard\\downloads\\project\\machine_learning_project\\venv\\lib\\site-packages (from ipython>=7.23.1->ipykernel) (5.1.1)\n",
      "Requirement already satisfied: colorama in c:\\users\\bhard\\downloads\\project\\machine_learning_project\\venv\\lib\\site-packages (from ipython>=7.23.1->ipykernel) (0.4.6)\n",
      "Requirement already satisfied: backcall in c:\\users\\bhard\\downloads\\project\\machine_learning_project\\venv\\lib\\site-packages (from ipython>=7.23.1->ipykernel) (0.2.0)\n",
      "Requirement already satisfied: jedi>=0.16 in c:\\users\\bhard\\downloads\\project\\machine_learning_project\\venv\\lib\\site-packages (from ipython>=7.23.1->ipykernel) (0.18.2)\n",
      "Requirement already satisfied: pygments in c:\\users\\bhard\\downloads\\project\\machine_learning_project\\venv\\lib\\site-packages (from ipython>=7.23.1->ipykernel) (2.14.0)\n",
      "Requirement already satisfied: pickleshare in c:\\users\\bhard\\downloads\\project\\machine_learning_project\\venv\\lib\\site-packages (from ipython>=7.23.1->ipykernel) (0.7.5)\n",
      "Requirement already satisfied: prompt-toolkit!=3.0.0,!=3.0.1,<3.1.0,>=2.0.0 in c:\\users\\bhard\\downloads\\project\\machine_learning_project\\venv\\lib\\site-packages (from ipython>=7.23.1->ipykernel) (3.0.36)\n",
      "Requirement already satisfied: setuptools>=18.5 in c:\\users\\bhard\\downloads\\project\\machine_learning_project\\venv\\lib\\site-packages (from ipython>=7.23.1->ipykernel) (65.5.0)\n",
      "Requirement already satisfied: entrypoints in c:\\users\\bhard\\downloads\\project\\machine_learning_project\\venv\\lib\\site-packages (from jupyter-client>=6.1.12->ipykernel) (0.4)\n",
      "Requirement already satisfied: python-dateutil>=2.8.2 in c:\\users\\bhard\\downloads\\project\\machine_learning_project\\venv\\lib\\site-packages (from jupyter-client>=6.1.12->ipykernel) (2.8.2)\n",
      "Requirement already satisfied: jupyter-core>=4.9.2 in c:\\users\\bhard\\downloads\\project\\machine_learning_project\\venv\\lib\\site-packages (from jupyter-client>=6.1.12->ipykernel) (4.12.0)\n",
      "Requirement already satisfied: parso<0.9.0,>=0.8.0 in c:\\users\\bhard\\downloads\\project\\machine_learning_project\\venv\\lib\\site-packages (from jedi>=0.16->ipython>=7.23.1->ipykernel) (0.8.3)\n",
      "Requirement already satisfied: pywin32>=1.0 in c:\\users\\bhard\\downloads\\project\\machine_learning_project\\venv\\lib\\site-packages (from jupyter-core>=4.9.2->jupyter-client>=6.1.12->ipykernel) (305)\n",
      "Requirement already satisfied: wcwidth in c:\\users\\bhard\\downloads\\project\\machine_learning_project\\venv\\lib\\site-packages (from prompt-toolkit!=3.0.0,!=3.0.1,<3.1.0,>=2.0.0->ipython>=7.23.1->ipykernel) (0.2.5)\n",
      "Requirement already satisfied: six>=1.5 in c:\\users\\bhard\\downloads\\project\\machine_learning_project\\venv\\lib\\site-packages (from python-dateutil>=2.8.2->jupyter-client>=6.1.12->ipykernel) (1.16.0)\n",
      "Note: you may need to restart the kernel to use updated packages.\n"
     ]
    }
   ],
   "source": [
    "pip install ipykernel"
   ]
  },
  {
   "cell_type": "code",
   "execution_count": null,
   "metadata": {},
   "outputs": [],
   "source": []
  }
 ],
 "metadata": {
  "kernelspec": {
   "display_name": "Python 3",
   "language": "python",
   "name": "python3"
  },
  "language_info": {
   "codemirror_mode": {
    "name": "ipython",
    "version": 3
   },
   "file_extension": ".py",
   "mimetype": "text/x-python",
   "name": "python",
   "nbconvert_exporter": "python",
   "pygments_lexer": "ipython3",
   "version": "3.7.0"
  },
  "orig_nbformat": 4,
  "vscode": {
   "interpreter": {
    "hash": "3eccd43045c3307e82ce137e3b931fd7e0a55fc825118568fef0966256ae6fbf"
   }
  }
 },
 "nbformat": 4,
 "nbformat_minor": 2
}
